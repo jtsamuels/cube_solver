{
 "cells": [
  {
   "cell_type": "code",
   "execution_count": 13,
   "metadata": {},
   "outputs": [],
   "source": [
    "from functions import cube_setup, search_funcs\n",
    "from cubes import cube2"
   ]
  },
  {
   "cell_type": "code",
   "execution_count": 14,
   "metadata": {},
   "outputs": [
    {
     "ename": "AttributeError",
     "evalue": "'cube2' object has no attribute 'trl'",
     "output_type": "error",
     "traceback": [
      "\u001b[0;31m---------------------------------------------------------------------------\u001b[0m",
      "\u001b[0;31mAttributeError\u001b[0m                            Traceback (most recent call last)",
      "\u001b[0;32m<ipython-input-14-bf520b194783>\u001b[0m in \u001b[0;36m<module>\u001b[0;34m\u001b[0m\n\u001b[0;32m----> 1\u001b[0;31m \u001b[0mtest\u001b[0m \u001b[0;34m=\u001b[0m \u001b[0mcube2\u001b[0m\u001b[0;34m(\u001b[0m\u001b[0;34m)\u001b[0m\u001b[0;34m\u001b[0m\u001b[0;34m\u001b[0m\u001b[0m\n\u001b[0m",
      "\u001b[0;32m~/Desktop/Code/cube_solver/cubes.py\u001b[0m in \u001b[0;36m__init__\u001b[0;34m(self, solved)\u001b[0m\n\u001b[1;32m     15\u001b[0m         \u001b[0mself\u001b[0m\u001b[0;34m.\u001b[0m\u001b[0mtf\u001b[0m  \u001b[0;34m=\u001b[0m \u001b[0mself\u001b[0m\u001b[0;34m.\u001b[0m\u001b[0mcube\u001b[0m\u001b[0;34m[\u001b[0m\u001b[0;36m4\u001b[0m\u001b[0;34m]\u001b[0m\u001b[0;34m\u001b[0m\u001b[0;34m\u001b[0m\u001b[0m\n\u001b[1;32m     16\u001b[0m         \u001b[0mself\u001b[0m\u001b[0;34m.\u001b[0m\u001b[0mbof\u001b[0m \u001b[0;34m=\u001b[0m \u001b[0mself\u001b[0m\u001b[0;34m.\u001b[0m\u001b[0mcube\u001b[0m\u001b[0;34m[\u001b[0m\u001b[0;36m5\u001b[0m\u001b[0;34m]\u001b[0m\u001b[0;34m\u001b[0m\u001b[0;34m\u001b[0m\u001b[0m\n\u001b[0;32m---> 17\u001b[0;31m         self.operations= {    0: self.trl()[0],\n\u001b[0m\u001b[1;32m     18\u001b[0m                               \u001b[0;36m1\u001b[0m\u001b[0;34m:\u001b[0m \u001b[0mself\u001b[0m\u001b[0;34m.\u001b[0m\u001b[0mtrr\u001b[0m\u001b[0;34m(\u001b[0m\u001b[0;34m)\u001b[0m\u001b[0;34m[\u001b[0m\u001b[0;36m0\u001b[0m\u001b[0;34m]\u001b[0m\u001b[0;34m,\u001b[0m\u001b[0;34m\u001b[0m\u001b[0;34m\u001b[0m\u001b[0m\n\u001b[1;32m     19\u001b[0m                               \u001b[0;36m2\u001b[0m\u001b[0;34m:\u001b[0m \u001b[0mself\u001b[0m\u001b[0;34m.\u001b[0m\u001b[0mbrl\u001b[0m\u001b[0;34m(\u001b[0m\u001b[0;34m)\u001b[0m\u001b[0;34m[\u001b[0m\u001b[0;36m0\u001b[0m\u001b[0;34m]\u001b[0m\u001b[0;34m,\u001b[0m\u001b[0;34m\u001b[0m\u001b[0;34m\u001b[0m\u001b[0m\n",
      "\u001b[0;31mAttributeError\u001b[0m: 'cube2' object has no attribute 'trl'"
     ]
    }
   ],
   "source": [
    "test = cube2()"
   ]
  },
  {
   "cell_type": "code",
   "execution_count": 3,
   "metadata": {
    "collapsed": true
   },
   "outputs": [
    {
     "name": "stdout",
     "output_type": "stream",
     "text": [
      "# of moves =  0\n",
      "state_list len =  1\n",
      "# of moves =  1\n",
      "state_list len =  2\n",
      "# of moves =  1\n",
      "state_list len =  2\n",
      "# of moves =  1\n",
      "state_list len =  2\n",
      "# of moves =  1\n",
      "state_list len =  2\n",
      "# of moves =  1\n",
      "state_list len =  2\n",
      "# of moves =  1\n",
      "state_list len =  2\n",
      "# of moves =  1\n",
      "state_list len =  2\n",
      "# of moves =  1\n",
      "state_list len =  2\n",
      "# of moves =  1\n",
      "state_list len =  2\n",
      "# of moves =  1\n",
      "state_list len =  2\n",
      "# of moves =  1\n",
      "state_list len =  2\n",
      "# of moves =  1\n",
      "state_list len =  2\n",
      "# of moves =  2\n",
      "state_list len =  3\n",
      "# of moves =  2\n",
      "state_list len =  3\n",
      "[[['y', 'y'], ['y', 'y']], [['w', 'w'], ['w', 'w']], [['g', 'g'], ['g', 'g']], [['b', 'b'], ['b', 'b']], [['r', 'r'], ['r', 'r']], [['o', 'o'], ['o', 'o']]]\n"
     ]
    }
   ],
   "source": [
    "# TEST IF TOP FACE ROTATION IS WORKING FOR TOP_ROW_LEFT() AND TOP_ROW_RIGHT()\n",
    "state_list = []\n",
    "size = 2\n",
    "cube = cube_setup.solved_cube(size)\n",
    "cube = cube_setup.top_row_right(cube, size)[0]\n",
    "cube = cube_setup.bottom_row_right(cube, size)[0]\n",
    "#cube = cube_setup.top_row_right(cube, size)[0]\n",
    "#cube = cube_setup.randomize_cube(size)\n",
    "\n",
    "cube, moves = search_funcs.bfs(size, cube)\n",
    "\n",
    "#cube_setup.print_cube(cube,size)\n",
    "print(cube)"
   ]
  },
  {
   "cell_type": "code",
   "execution_count": null,
   "metadata": {},
   "outputs": [],
   "source": []
  }
 ],
 "metadata": {
  "kernelspec": {
   "display_name": "Python 3",
   "language": "python",
   "name": "python3"
  },
  "language_info": {
   "codemirror_mode": {
    "name": "ipython",
    "version": 3
   },
   "file_extension": ".py",
   "mimetype": "text/x-python",
   "name": "python",
   "nbconvert_exporter": "python",
   "pygments_lexer": "ipython3",
   "version": "3.8.5"
  }
 },
 "nbformat": 4,
 "nbformat_minor": 4
}
