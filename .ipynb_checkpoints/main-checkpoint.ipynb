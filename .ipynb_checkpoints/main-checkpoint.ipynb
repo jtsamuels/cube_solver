{
 "cells": [
  {
   "cell_type": "code",
   "execution_count": 1,
   "metadata": {},
   "outputs": [],
   "source": [
    "#from functions import cube_setup, search_funcs\n",
    "#from class_cubes import moves cube2, search_funcs, tests, helper\n",
    "from matrix_cubes import moves, helper, tests, search_funcs"
   ]
  },
  {
   "cell_type": "markdown",
   "metadata": {},
   "source": [
    "## Asserts work, actions function as expected"
   ]
  },
  {
   "cell_type": "code",
   "execution_count": 30,
   "metadata": {},
   "outputs": [],
   "source": [
    "solved = helper.solved_cube(2)\n",
    "#unsolved = helper.randomize_cube(2)\n",
    "unsolved = moves.trl(solved)[0]\n",
    "unsolved = moves.lcd(unsolved)[0]\n",
    "tests.asserts()"
   ]
  },
  {
   "cell_type": "code",
   "execution_count": 15,
   "metadata": {
    "collapsed": true
   },
   "outputs": [
    {
     "name": "stdout",
     "output_type": "stream",
     "text": [
      "['b', 'b'] \n",
      "\n",
      "['y', 'y'] \n",
      "\n",
      "\n",
      "\n",
      "['w', 'g'] \n",
      "\n",
      "['w', 'g'] \n",
      "\n",
      "\n",
      "\n",
      "['r', 'r'] \n",
      "\n",
      "['g', 'y'] \n",
      "\n",
      "\n",
      "\n",
      "['o', 'o'] \n",
      "\n",
      "['w', 'b'] \n",
      "\n",
      "\n",
      "\n",
      "['w', 'b'] \n",
      "\n",
      "['r', 'r'] \n",
      "\n",
      "\n",
      "\n",
      "['g', 'y'] \n",
      "\n",
      "['o', 'o'] \n",
      "\n",
      "\n",
      "\n"
     ]
    }
   ],
   "source": [
    "helper.print_cube(unsolved)"
   ]
  },
  {
   "cell_type": "code",
   "execution_count": 31,
   "metadata": {},
   "outputs": [],
   "source": [
    "bfs_ed = search_funcs.bfs(unsolved)"
   ]
  },
  {
   "cell_type": "code",
   "execution_count": 32,
   "metadata": {
    "collapsed": true
   },
   "outputs": [
    {
     "name": "stdout",
     "output_type": "stream",
     "text": [
      "['y', 'y'] \n",
      "\n",
      "['y', 'y'] \n",
      "\n",
      "\n",
      "\n",
      "['w', 'w'] \n",
      "\n",
      "['w', 'w'] \n",
      "\n",
      "\n",
      "\n",
      "['g', 'g'] \n",
      "\n",
      "['g', 'g'] \n",
      "\n",
      "\n",
      "\n",
      "['b', 'b'] \n",
      "\n",
      "['b', 'b'] \n",
      "\n",
      "\n",
      "\n",
      "['r', 'r'] \n",
      "\n",
      "['r', 'r'] \n",
      "\n",
      "\n",
      "\n",
      "['o', 'o'] \n",
      "\n",
      "['o', 'o'] \n",
      "\n",
      "\n",
      "\n",
      "2\n"
     ]
    }
   ],
   "source": [
    "helper.print_cube(bfs_ed[0])\n",
    "print(bfs_ed[1])"
   ]
  },
  {
   "cell_type": "code",
   "execution_count": 33,
   "metadata": {},
   "outputs": [
    {
     "ename": "RecursionError",
     "evalue": "maximum recursion depth exceeded in comparison",
     "output_type": "error",
     "traceback": [
      "\u001b[0;31m---------------------------------------------------------------------------\u001b[0m",
      "\u001b[0;31mRecursionError\u001b[0m                            Traceback (most recent call last)",
      "\u001b[0;32m<ipython-input-33-6392564330e0>\u001b[0m in \u001b[0;36m<module>\u001b[0;34m\u001b[0m\n\u001b[0;32m----> 1\u001b[0;31m \u001b[0mdfs_ed\u001b[0m \u001b[0;34m=\u001b[0m \u001b[0msearch_funcs\u001b[0m\u001b[0;34m.\u001b[0m\u001b[0mdfs\u001b[0m\u001b[0;34m(\u001b[0m\u001b[0munsolved\u001b[0m\u001b[0;34m)\u001b[0m\u001b[0;34m\u001b[0m\u001b[0;34m\u001b[0m\u001b[0m\n\u001b[0m",
      "\u001b[0;32m~/Desktop/Code/cube_solver/matrix_cubes.py\u001b[0m in \u001b[0;36mdfs\u001b[0;34m(matrix)\u001b[0m\n\u001b[1;32m    630\u001b[0m         \u001b[0msteps\u001b[0m \u001b[0;34m=\u001b[0m \u001b[0;36m0\u001b[0m\u001b[0;34m\u001b[0m\u001b[0;34m\u001b[0m\u001b[0m\n\u001b[1;32m    631\u001b[0m         \u001b[0mstate_list\u001b[0m \u001b[0;34m=\u001b[0m \u001b[0;34m[\u001b[0m\u001b[0mmatrix\u001b[0m\u001b[0;34m]\u001b[0m\u001b[0;34m\u001b[0m\u001b[0;34m\u001b[0m\u001b[0m\n\u001b[0;32m--> 632\u001b[0;31m         \u001b[0mmatrix\u001b[0m\u001b[0;34m,\u001b[0m \u001b[0msteps\u001b[0m\u001b[0;34m,\u001b[0m \u001b[0mstate_list\u001b[0m \u001b[0;34m=\u001b[0m \u001b[0msearch_funcs\u001b[0m\u001b[0;34m.\u001b[0m\u001b[0mdfs_loop\u001b[0m\u001b[0;34m(\u001b[0m\u001b[0mmatrix\u001b[0m\u001b[0;34m,\u001b[0m \u001b[0mstate_list\u001b[0m\u001b[0;34m,\u001b[0m \u001b[0msteps\u001b[0m\u001b[0;34m)\u001b[0m\u001b[0;34m\u001b[0m\u001b[0;34m\u001b[0m\u001b[0m\n\u001b[0m\u001b[1;32m    633\u001b[0m         \u001b[0;32mreturn\u001b[0m \u001b[0;34m(\u001b[0m\u001b[0mmatrix\u001b[0m\u001b[0;34m,\u001b[0m \u001b[0msteps\u001b[0m\u001b[0;34m)\u001b[0m\u001b[0;34m\u001b[0m\u001b[0;34m\u001b[0m\u001b[0m\n\u001b[1;32m    634\u001b[0m \u001b[0;34m\u001b[0m\u001b[0m\n",
      "\u001b[0;32m~/Desktop/Code/cube_solver/matrix_cubes.py\u001b[0m in \u001b[0;36mdfs_loop\u001b[0;34m(matrix, state_list, steps)\u001b[0m\n\u001b[1;32m    645\u001b[0m                     \u001b[0mstate_list\u001b[0m\u001b[0;34m.\u001b[0m\u001b[0mappend\u001b[0m\u001b[0;34m(\u001b[0m\u001b[0mnew_matrix\u001b[0m\u001b[0;34m)\u001b[0m\u001b[0;34m\u001b[0m\u001b[0;34m\u001b[0m\u001b[0m\n\u001b[1;32m    646\u001b[0m                     \u001b[0msteps\u001b[0m \u001b[0;34m+=\u001b[0m \u001b[0;36m1\u001b[0m\u001b[0;34m\u001b[0m\u001b[0;34m\u001b[0m\u001b[0m\n\u001b[0;32m--> 647\u001b[0;31m                     \u001b[0mresult\u001b[0m \u001b[0;34m=\u001b[0m \u001b[0msearch_funcs\u001b[0m\u001b[0;34m.\u001b[0m\u001b[0mdfs_loop\u001b[0m\u001b[0;34m(\u001b[0m\u001b[0mnew_matrix\u001b[0m\u001b[0;34m,\u001b[0m \u001b[0mstate_list\u001b[0m\u001b[0;34m,\u001b[0m \u001b[0msteps\u001b[0m\u001b[0;34m)\u001b[0m\u001b[0;34m\u001b[0m\u001b[0;34m\u001b[0m\u001b[0m\n\u001b[0m\u001b[1;32m    648\u001b[0m                     \u001b[0;32mif\u001b[0m \u001b[0mresult\u001b[0m\u001b[0;34m[\u001b[0m\u001b[0;36m0\u001b[0m\u001b[0;34m]\u001b[0m \u001b[0;34m==\u001b[0m \u001b[0msolved\u001b[0m\u001b[0;34m:\u001b[0m\u001b[0;34m\u001b[0m\u001b[0;34m\u001b[0m\u001b[0m\n\u001b[1;32m    649\u001b[0m                         \u001b[0;32mreturn\u001b[0m \u001b[0mresult\u001b[0m\u001b[0;34m\u001b[0m\u001b[0;34m\u001b[0m\u001b[0m\n",
      "... last 1 frames repeated, from the frame below ...\n",
      "\u001b[0;32m~/Desktop/Code/cube_solver/matrix_cubes.py\u001b[0m in \u001b[0;36mdfs_loop\u001b[0;34m(matrix, state_list, steps)\u001b[0m\n\u001b[1;32m    645\u001b[0m                     \u001b[0mstate_list\u001b[0m\u001b[0;34m.\u001b[0m\u001b[0mappend\u001b[0m\u001b[0;34m(\u001b[0m\u001b[0mnew_matrix\u001b[0m\u001b[0;34m)\u001b[0m\u001b[0;34m\u001b[0m\u001b[0;34m\u001b[0m\u001b[0m\n\u001b[1;32m    646\u001b[0m                     \u001b[0msteps\u001b[0m \u001b[0;34m+=\u001b[0m \u001b[0;36m1\u001b[0m\u001b[0;34m\u001b[0m\u001b[0;34m\u001b[0m\u001b[0m\n\u001b[0;32m--> 647\u001b[0;31m                     \u001b[0mresult\u001b[0m \u001b[0;34m=\u001b[0m \u001b[0msearch_funcs\u001b[0m\u001b[0;34m.\u001b[0m\u001b[0mdfs_loop\u001b[0m\u001b[0;34m(\u001b[0m\u001b[0mnew_matrix\u001b[0m\u001b[0;34m,\u001b[0m \u001b[0mstate_list\u001b[0m\u001b[0;34m,\u001b[0m \u001b[0msteps\u001b[0m\u001b[0;34m)\u001b[0m\u001b[0;34m\u001b[0m\u001b[0;34m\u001b[0m\u001b[0m\n\u001b[0m\u001b[1;32m    648\u001b[0m                     \u001b[0;32mif\u001b[0m \u001b[0mresult\u001b[0m\u001b[0;34m[\u001b[0m\u001b[0;36m0\u001b[0m\u001b[0;34m]\u001b[0m \u001b[0;34m==\u001b[0m \u001b[0msolved\u001b[0m\u001b[0;34m:\u001b[0m\u001b[0;34m\u001b[0m\u001b[0;34m\u001b[0m\u001b[0m\n\u001b[1;32m    649\u001b[0m                         \u001b[0;32mreturn\u001b[0m \u001b[0mresult\u001b[0m\u001b[0;34m\u001b[0m\u001b[0;34m\u001b[0m\u001b[0m\n",
      "\u001b[0;31mRecursionError\u001b[0m: maximum recursion depth exceeded in comparison"
     ]
    }
   ],
   "source": [
    "dfs_ed = search_funcs.dfs(unsolved)"
   ]
  },
  {
   "cell_type": "code",
   "execution_count": 25,
   "metadata": {
    "collapsed": true
   },
   "outputs": [
    {
     "name": "stdout",
     "output_type": "stream",
     "text": [
      "['y', 'y'] \n",
      "\n",
      "['y', 'y'] \n",
      "\n",
      "\n",
      "\n",
      "['w', 'w'] \n",
      "\n",
      "['w', 'w'] \n",
      "\n",
      "\n",
      "\n",
      "['g', 'g'] \n",
      "\n",
      "['g', 'g'] \n",
      "\n",
      "\n",
      "\n",
      "['b', 'b'] \n",
      "\n",
      "['b', 'b'] \n",
      "\n",
      "\n",
      "\n",
      "['r', 'r'] \n",
      "\n",
      "['r', 'r'] \n",
      "\n",
      "\n",
      "\n",
      "['o', 'o'] \n",
      "\n",
      "['o', 'o'] \n",
      "\n",
      "\n",
      "\n",
      "14\n"
     ]
    }
   ],
   "source": [
    "helper.print_cube(dfs_ed[0])\n",
    "print(dfs_ed[1])"
   ]
  },
  {
   "cell_type": "code",
   "execution_count": 9,
   "metadata": {},
   "outputs": [
    {
     "name": "stdout",
     "output_type": "stream",
     "text": [
      "moves = 2 \n",
      "\n",
      "['y', 'y'] \n",
      "\n",
      "['y', 'y'] \n",
      "\n",
      "\n",
      "\n",
      "['w', 'w'] \n",
      "\n",
      "['w', 'w'] \n",
      "\n",
      "\n",
      "\n",
      "['g', 'g'] \n",
      "\n",
      "['g', 'g'] \n",
      "\n",
      "\n",
      "\n",
      "['b', 'b'] \n",
      "\n",
      "['b', 'b'] \n",
      "\n",
      "\n",
      "\n",
      "['r', 'r'] \n",
      "\n",
      "['r', 'r'] \n",
      "\n",
      "\n",
      "\n",
      "['o', 'o'] \n",
      "\n",
      "['o', 'o'] \n",
      "\n",
      "\n",
      "\n"
     ]
    }
   ],
   "source": [
    "print(f\"moves = {dfs_ed[1]}\",'\\n')\n",
    "helper.print_cube(dfs_ed[0])"
   ]
  },
  {
   "cell_type": "code",
   "execution_count": 10,
   "metadata": {},
   "outputs": [
    {
     "ename": "NameError",
     "evalue": "name 'test' is not defined",
     "output_type": "error",
     "traceback": [
      "\u001b[0;31m---------------------------------------------------------------------------\u001b[0m",
      "\u001b[0;31mNameError\u001b[0m                                 Traceback (most recent call last)",
      "\u001b[0;32m<ipython-input-10-36be65410a8f>\u001b[0m in \u001b[0;36m<module>\u001b[0;34m\u001b[0m\n\u001b[0;32m----> 1\u001b[0;31m \u001b[0mtype\u001b[0m\u001b[0;34m(\u001b[0m\u001b[0mmoves\u001b[0m\u001b[0;34m.\u001b[0m\u001b[0mtrl\u001b[0m\u001b[0;34m(\u001b[0m\u001b[0mtest\u001b[0m\u001b[0;34m)\u001b[0m\u001b[0;34m[\u001b[0m\u001b[0;36m1\u001b[0m\u001b[0;34m]\u001b[0m\u001b[0;34m)\u001b[0m\u001b[0;34m\u001b[0m\u001b[0;34m\u001b[0m\u001b[0m\n\u001b[0m",
      "\u001b[0;31mNameError\u001b[0m: name 'test' is not defined"
     ]
    }
   ],
   "source": [
    "type(moves.trl(test)[1])"
   ]
  },
  {
   "cell_type": "code",
   "execution_count": null,
   "metadata": {},
   "outputs": [],
   "source": [
    "cube, moves = search_funcs.dfs(cube=test)\n",
    "print(cube)"
   ]
  },
  {
   "cell_type": "code",
   "execution_count": null,
   "metadata": {},
   "outputs": [],
   "source": []
  },
  {
   "cell_type": "code",
   "execution_count": null,
   "metadata": {},
   "outputs": [],
   "source": [
    "                              [[['y', 'y'], ['y', 'y']],  # Front\n",
    "                               [['w', 'w'], ['w', 'w']],  # Back\n",
    "                               [['g', 'g'], ['g', 'g']],  # Left\n",
    "                               [['b', 'b'], ['b', 'b']],  # Right\n",
    "                               [['r', 'r'], ['r', 'r']],  # Top\n",
    "                               [['o', 'o'], ['o', 'o']]]  # Bottom\n",
    "print(test.cube)"
   ]
  }
 ],
 "metadata": {
  "interpreter": {
   "hash": "aee8b7b246df8f9039afb4144a1f6fd8d2ca17a180786b69acc140d282b71a49"
  },
  "kernelspec": {
   "display_name": "Python 3",
   "language": "python",
   "name": "python3"
  },
  "language_info": {
   "codemirror_mode": {
    "name": "ipython",
    "version": 3
   },
   "file_extension": ".py",
   "mimetype": "text/x-python",
   "name": "python",
   "nbconvert_exporter": "python",
   "pygments_lexer": "ipython3",
   "version": "3.8.5"
  }
 },
 "nbformat": 4,
 "nbformat_minor": 4
}
